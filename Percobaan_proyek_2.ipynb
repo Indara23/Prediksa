{
  "cells": [
    {
      "cell_type": "code",
      "execution_count": 3,
      "id": "763e2566",
      "metadata": {
        "id": "763e2566"
      },
      "outputs": [],
      "source": [
        "import numpy as np\n",
        "import pandas as pd\n",
        "import matplotlib.pyplot as plt\n",
        "import seaborn as sns"
      ]
    },
    {
      "cell_type": "code",
      "execution_count": 4,
      "id": "b8124408",
      "metadata": {
        "colab": {
          "base_uri": "https://localhost:8080/",
          "height": 206
        },
        "id": "b8124408",
        "outputId": "289676ab-4072-482c-9de0-b05fb1405c23"
      },
      "outputs": [
        {
          "data": {
            "text/html": [
              "<div>\n",
              "<style scoped>\n",
              "    .dataframe tbody tr th:only-of-type {\n",
              "        vertical-align: middle;\n",
              "    }\n",
              "\n",
              "    .dataframe tbody tr th {\n",
              "        vertical-align: top;\n",
              "    }\n",
              "\n",
              "    .dataframe thead th {\n",
              "        text-align: right;\n",
              "    }\n",
              "</style>\n",
              "<table border=\"1\" class=\"dataframe\">\n",
              "  <thead>\n",
              "    <tr style=\"text-align: right;\">\n",
              "      <th></th>\n",
              "      <th>age</th>\n",
              "      <th>sex</th>\n",
              "      <th>cp</th>\n",
              "      <th>trestbps</th>\n",
              "      <th>chol</th>\n",
              "      <th>fbs</th>\n",
              "      <th>restecg</th>\n",
              "      <th>thalach</th>\n",
              "      <th>exang</th>\n",
              "      <th>oldpeak</th>\n",
              "      <th>slope</th>\n",
              "      <th>ca</th>\n",
              "      <th>thal</th>\n",
              "      <th>target</th>\n",
              "    </tr>\n",
              "  </thead>\n",
              "  <tbody>\n",
              "    <tr>\n",
              "      <th>0</th>\n",
              "      <td>52</td>\n",
              "      <td>1</td>\n",
              "      <td>0</td>\n",
              "      <td>125</td>\n",
              "      <td>212</td>\n",
              "      <td>0</td>\n",
              "      <td>1</td>\n",
              "      <td>168</td>\n",
              "      <td>0</td>\n",
              "      <td>1.0</td>\n",
              "      <td>2</td>\n",
              "      <td>2</td>\n",
              "      <td>3</td>\n",
              "      <td>0</td>\n",
              "    </tr>\n",
              "    <tr>\n",
              "      <th>1</th>\n",
              "      <td>53</td>\n",
              "      <td>1</td>\n",
              "      <td>0</td>\n",
              "      <td>140</td>\n",
              "      <td>203</td>\n",
              "      <td>1</td>\n",
              "      <td>0</td>\n",
              "      <td>155</td>\n",
              "      <td>1</td>\n",
              "      <td>3.1</td>\n",
              "      <td>0</td>\n",
              "      <td>0</td>\n",
              "      <td>3</td>\n",
              "      <td>0</td>\n",
              "    </tr>\n",
              "    <tr>\n",
              "      <th>2</th>\n",
              "      <td>70</td>\n",
              "      <td>1</td>\n",
              "      <td>0</td>\n",
              "      <td>145</td>\n",
              "      <td>174</td>\n",
              "      <td>0</td>\n",
              "      <td>1</td>\n",
              "      <td>125</td>\n",
              "      <td>1</td>\n",
              "      <td>2.6</td>\n",
              "      <td>0</td>\n",
              "      <td>0</td>\n",
              "      <td>3</td>\n",
              "      <td>0</td>\n",
              "    </tr>\n",
              "    <tr>\n",
              "      <th>3</th>\n",
              "      <td>61</td>\n",
              "      <td>1</td>\n",
              "      <td>0</td>\n",
              "      <td>148</td>\n",
              "      <td>203</td>\n",
              "      <td>0</td>\n",
              "      <td>1</td>\n",
              "      <td>161</td>\n",
              "      <td>0</td>\n",
              "      <td>0.0</td>\n",
              "      <td>2</td>\n",
              "      <td>1</td>\n",
              "      <td>3</td>\n",
              "      <td>0</td>\n",
              "    </tr>\n",
              "    <tr>\n",
              "      <th>4</th>\n",
              "      <td>62</td>\n",
              "      <td>0</td>\n",
              "      <td>0</td>\n",
              "      <td>138</td>\n",
              "      <td>294</td>\n",
              "      <td>1</td>\n",
              "      <td>1</td>\n",
              "      <td>106</td>\n",
              "      <td>0</td>\n",
              "      <td>1.9</td>\n",
              "      <td>1</td>\n",
              "      <td>3</td>\n",
              "      <td>2</td>\n",
              "      <td>0</td>\n",
              "    </tr>\n",
              "  </tbody>\n",
              "</table>\n",
              "</div>"
            ],
            "text/plain": [
              "   age  sex  cp  trestbps  chol  fbs  restecg  thalach  exang  oldpeak  slope  \\\n",
              "0   52    1   0       125   212    0        1      168      0      1.0      2   \n",
              "1   53    1   0       140   203    1        0      155      1      3.1      0   \n",
              "2   70    1   0       145   174    0        1      125      1      2.6      0   \n",
              "3   61    1   0       148   203    0        1      161      0      0.0      2   \n",
              "4   62    0   0       138   294    1        1      106      0      1.9      1   \n",
              "\n",
              "   ca  thal  target  \n",
              "0   2     3       0  \n",
              "1   0     3       0  \n",
              "2   0     3       0  \n",
              "3   1     3       0  \n",
              "4   3     2       0  "
            ]
          },
          "execution_count": 4,
          "metadata": {},
          "output_type": "execute_result"
        }
      ],
      "source": [
        "df = pd.read_csv('heart.csv')\n",
        "df.head()"
      ]
    },
    {
      "cell_type": "code",
      "execution_count": 5,
      "id": "15779921",
      "metadata": {
        "colab": {
          "base_uri": "https://localhost:8080/",
          "height": 523
        },
        "id": "15779921",
        "outputId": "d73f8fa6-1600-40d8-b4ca-e5ace510ea5e"
      },
      "outputs": [
        {
          "data": {
            "text/plain": [
              "age         0\n",
              "sex         0\n",
              "cp          0\n",
              "trestbps    0\n",
              "chol        0\n",
              "fbs         0\n",
              "restecg     0\n",
              "thalach     0\n",
              "exang       0\n",
              "oldpeak     0\n",
              "slope       0\n",
              "ca          0\n",
              "thal        0\n",
              "target      0\n",
              "dtype: int64"
            ]
          },
          "execution_count": 5,
          "metadata": {},
          "output_type": "execute_result"
        }
      ],
      "source": [
        "df.isna().sum()"
      ]
    },
    {
      "cell_type": "code",
      "execution_count": 6,
      "id": "23690aad",
      "metadata": {
        "colab": {
          "base_uri": "https://localhost:8080/"
        },
        "id": "23690aad",
        "outputId": "2a685e52-b47f-4111-cc1f-f0350480d7a6"
      },
      "outputs": [
        {
          "name": "stdout",
          "output_type": "stream",
          "text": [
            "age           int64\n",
            "sex           int64\n",
            "cp            int64\n",
            "trestbps      int64\n",
            "chol          int64\n",
            "fbs           int64\n",
            "restecg       int64\n",
            "thalach       int64\n",
            "exang         int64\n",
            "oldpeak     float64\n",
            "slope         int64\n",
            "ca            int64\n",
            "thal          int64\n",
            "target        int64\n",
            "dtype: object\n"
          ]
        }
      ],
      "source": [
        "print(df.dtypes)"
      ]
    },
    {
      "cell_type": "code",
      "execution_count": 7,
      "id": "d7822e90",
      "metadata": {},
      "outputs": [
        {
          "data": {
            "text/plain": [
              "target\n",
              "1    526\n",
              "0    499\n",
              "Name: count, dtype: int64"
            ]
          },
          "execution_count": 7,
          "metadata": {},
          "output_type": "execute_result"
        }
      ],
      "source": [
        "df['target'].value_counts()"
      ]
    },
    {
      "cell_type": "markdown",
      "id": "41a3516f",
      "metadata": {
        "id": "41a3516f"
      },
      "source": [
        "# Hasil"
      ]
    },
    {
      "cell_type": "code",
      "execution_count": 8,
      "id": "4df819c6",
      "metadata": {
        "id": "4df819c6"
      },
      "outputs": [],
      "source": [
        "import pandas as pd\n",
        "import numpy as np\n",
        "import seaborn as sns\n",
        "import matplotlib.pyplot as plt\n",
        "from sklearn.model_selection import train_test_split\n",
        "from sklearn.preprocessing import LabelEncoder, StandardScaler, MinMaxScaler\n",
        "from sklearn.neighbors import KNeighborsClassifier\n",
        "from sklearn.svm import SVC\n",
        "from sklearn.metrics import confusion_matrix, accuracy_score, precision_score, recall_score, f1_score"
      ]
    },
    {
      "cell_type": "code",
      "execution_count": 9,
      "id": "f13e295e",
      "metadata": {
        "id": "f13e295e"
      },
      "outputs": [],
      "source": [
        "# Pisahkan fitur (X) dan target (y)\n",
        "X = df.drop(columns=['target'])\n",
        "y = df['target']\n",
        "\n",
        "# Split data menjadi set pelatihan dan set uji\n",
        "X_train, X_test, y_train, y_test = train_test_split(X, y, test_size=0.2, random_state=42)"
      ]
    },
    {
      "cell_type": "markdown",
      "id": "58f5cccf",
      "metadata": {
        "id": "58f5cccf"
      },
      "source": [
        "## Hasil Model Individu"
      ]
    },
    {
      "cell_type": "code",
      "execution_count": 10,
      "id": "dc55e4d3",
      "metadata": {},
      "outputs": [],
      "source": [
        "# Daftar fitur numerik yang perlu di-scaling\n",
        "num_features = ['age', 'trestbps', 'chol', 'thalach', 'oldpeak']\n",
        "\n",
        "# Scaling fitur numerik setelah split (hindari leakage)\n",
        "scaler = StandardScaler()\n",
        "X_train_scaled = X_train.copy()\n",
        "X_test_scaled = X_test.copy()\n",
        "\n",
        "X_train_scaled[num_features] = scaler.fit_transform(X_train[num_features])\n",
        "X_test_scaled[num_features] = scaler.transform(X_test[num_features])"
      ]
    },
    {
      "cell_type": "code",
      "execution_count": 11,
      "id": "9757266b",
      "metadata": {
        "id": "9757266b"
      },
      "outputs": [],
      "source": [
        "from sklearn.linear_model import LogisticRegression\n",
        "from sklearn.tree import DecisionTreeClassifier\n",
        "from sklearn.ensemble import RandomForestClassifier\n",
        "from sklearn.svm import SVC\n",
        "from sklearn.neighbors import KNeighborsClassifier\n",
        "\n",
        "# Definisikan model-model\n",
        "models = {\n",
        "    \"Logistic Regression\": LogisticRegression(max_iter=1000, random_state=42),\n",
        "    \"Decision Tree\": DecisionTreeClassifier(\n",
        "        max_depth=3,               # batasi kedalaman\n",
        "        min_samples_split=10,      # minimal sampel untuk split\n",
        "        min_samples_leaf=5,         # minimal sampel tiap daun\n",
        "        random_state=42\n",
        "    ),\n",
        "    \"Random Forest\": RandomForestClassifier(\n",
        "        n_estimators=100,\n",
        "        max_depth=3,               # batasi kedalaman\n",
        "        min_samples_split=10,\n",
        "        min_samples_leaf=5,\n",
        "        random_state=42\n",
        "    ),\n",
        "    \"SVM\": SVC(probability=True, random_state=42),\n",
        "    \"KNN\": KNeighborsClassifier()\n",
        "}"
      ]
    },
    {
      "cell_type": "code",
      "execution_count": 12,
      "id": "c36b27eb",
      "metadata": {},
      "outputs": [
        {
          "name": "stdout",
          "output_type": "stream",
          "text": [
            "Logistic Regression Mean CV Accuracy: 0.8549\n",
            "Decision Tree Mean CV Accuracy: 0.8220\n",
            "Random Forest Mean CV Accuracy: 0.8768\n",
            "SVM Mean CV Accuracy: 0.8841\n",
            "KNN Mean CV Accuracy: 0.8537\n"
          ]
        }
      ],
      "source": [
        "from sklearn.model_selection import cross_val_score, KFold\n",
        "\n",
        "cv = KFold(n_splits=5, shuffle=True, random_state=42)\n",
        "\n",
        "model_cv_scores = {}\n",
        "\n",
        "for name, model in models.items():\n",
        "    scores = cross_val_score(model, X_train_scaled, y_train, cv=cv)\n",
        "    mean_score = scores.mean()\n",
        "    model_cv_scores[name] = mean_score\n",
        "    print(f\"{name} Mean CV Accuracy: {mean_score:.4f}\")"
      ]
    },
    {
      "cell_type": "code",
      "execution_count": 13,
      "id": "6ef27d32",
      "metadata": {},
      "outputs": [
        {
          "name": "stdout",
          "output_type": "stream",
          "text": [
            "\n",
            "3 Model Terbaik berdasarkan CV Accuracy:\n",
            "SVM: 0.8841\n",
            "Random Forest: 0.8768\n",
            "Logistic Regression: 0.8549\n"
          ]
        }
      ],
      "source": [
        "top_models = sorted(model_cv_scores.items(), key=lambda x: x[1], reverse=True)[:3]\n",
        "print(\"\\n3 Model Terbaik berdasarkan CV Accuracy:\")\n",
        "for name, score in top_models:\n",
        "    print(f\"{name}: {score:.4f}\")"
      ]
    },
    {
      "cell_type": "code",
      "execution_count": 14,
      "id": "5445d55f",
      "metadata": {},
      "outputs": [
        {
          "name": "stdout",
          "output_type": "stream",
          "text": [
            "\n",
            "Evaluasi di Test Set:\n",
            "\n",
            "Model: Logistic Regression\n",
            "Confusion Matrix:\n",
            "[[73 29]\n",
            " [13 90]]\n",
            "Classification Report:\n",
            "              precision    recall  f1-score   support\n",
            "\n",
            "           0       0.85      0.72      0.78       102\n",
            "           1       0.76      0.87      0.81       103\n",
            "\n",
            "    accuracy                           0.80       205\n",
            "   macro avg       0.80      0.79      0.79       205\n",
            "weighted avg       0.80      0.80      0.79       205\n",
            "\n",
            "Akurasi: 0.7951\n",
            "\n",
            "Model: Decision Tree\n",
            "Confusion Matrix:\n",
            "[[69 33]\n",
            " [12 91]]\n",
            "Classification Report:\n",
            "              precision    recall  f1-score   support\n",
            "\n",
            "           0       0.85      0.68      0.75       102\n",
            "           1       0.73      0.88      0.80       103\n",
            "\n",
            "    accuracy                           0.78       205\n",
            "   macro avg       0.79      0.78      0.78       205\n",
            "weighted avg       0.79      0.78      0.78       205\n",
            "\n",
            "Akurasi: 0.7805\n",
            "\n",
            "Model: Random Forest\n",
            "Confusion Matrix:\n",
            "[[74 28]\n",
            " [14 89]]\n",
            "Classification Report:\n",
            "              precision    recall  f1-score   support\n",
            "\n",
            "           0       0.84      0.73      0.78       102\n",
            "           1       0.76      0.86      0.81       103\n",
            "\n",
            "    accuracy                           0.80       205\n",
            "   macro avg       0.80      0.79      0.79       205\n",
            "weighted avg       0.80      0.80      0.79       205\n",
            "\n",
            "Akurasi: 0.7951\n",
            "\n",
            "Model: SVM\n",
            "Confusion Matrix:\n",
            "[[76 26]\n",
            " [ 8 95]]\n",
            "Classification Report:\n",
            "              precision    recall  f1-score   support\n",
            "\n",
            "           0       0.90      0.75      0.82       102\n",
            "           1       0.79      0.92      0.85       103\n",
            "\n",
            "    accuracy                           0.83       205\n",
            "   macro avg       0.84      0.83      0.83       205\n",
            "weighted avg       0.84      0.83      0.83       205\n",
            "\n",
            "Akurasi: 0.8341\n",
            "\n",
            "Model: KNN\n",
            "Confusion Matrix:\n",
            "[[77 25]\n",
            " [15 88]]\n",
            "Classification Report:\n",
            "              precision    recall  f1-score   support\n",
            "\n",
            "           0       0.84      0.75      0.79       102\n",
            "           1       0.78      0.85      0.81       103\n",
            "\n",
            "    accuracy                           0.80       205\n",
            "   macro avg       0.81      0.80      0.80       205\n",
            "weighted avg       0.81      0.80      0.80       205\n",
            "\n",
            "Akurasi: 0.8049\n"
          ]
        }
      ],
      "source": [
        "from sklearn.metrics import classification_report, confusion_matrix, accuracy_score\n",
        "\n",
        "print(\"\\nEvaluasi di Test Set:\")\n",
        "for name, model in models.items():\n",
        "    model.fit(X_train_scaled, y_train)\n",
        "    y_pred = model.predict(X_test_scaled)\n",
        "\n",
        "    print(f\"\\nModel: {name}\")\n",
        "    print(\"Confusion Matrix:\")\n",
        "    print(confusion_matrix(y_test, y_pred))\n",
        "    print(\"Classification Report:\")\n",
        "    print(classification_report(y_test, y_pred))\n",
        "    print(f\"Akurasi: {accuracy_score(y_test, y_pred):.4f}\")\n"
      ]
    },
    {
      "cell_type": "code",
      "execution_count": 15,
      "id": "500a2741",
      "metadata": {
        "colab": {
          "base_uri": "https://localhost:8080/",
          "height": 906
        },
        "id": "500a2741",
        "outputId": "009ca45d-2f7b-4dd4-a0cf-9d2778667845"
      },
      "outputs": [
        {
          "data": {
            "image/png": "[encoded data removed]",
            "text/plain": [
              "<Figure size 1500x1000 with 10 Axes>"
            ]
          },
          "metadata": {},
          "output_type": "display_data"
        }
      ],
      "source": [
        "from sklearn.metrics import ConfusionMatrixDisplay\n",
        "\n",
        "# Plot confusion matrix tiap model\n",
        "plt.figure(figsize=(15, 10))\n",
        "\n",
        "for i, (name, model) in enumerate(models.items(), 1):\n",
        "    model.fit(X_train_scaled, y_train)\n",
        "    y_pred = model.predict(X_test_scaled)\n",
        "    cm = confusion_matrix(y_test, y_pred)\n",
        "    disp = ConfusionMatrixDisplay(confusion_matrix=cm)\n",
        "\n",
        "    plt.subplot(2, 3, i)\n",
        "    disp.plot(cmap='Blues', values_format='d', ax=plt.gca())\n",
        "    plt.title(f\"{name}\")\n",
        "\n",
        "plt.tight_layout()\n",
        "plt.show()"
      ]
    },
    {
      "cell_type": "markdown",
      "id": "d648f59a",
      "metadata": {
        "id": "d648f59a"
      },
      "source": [
        "## Ensamble : Voting"
      ]
    },
    {
      "cell_type": "code",
      "execution_count": 16,
      "id": "a226a4a4",
      "metadata": {
        "colab": {
          "base_uri": "https://localhost:8080/"
        },
        "id": "a226a4a4",
        "outputId": "979d9e3e-48fb-46a4-abe0-4980af77ac12"
      },
      "outputs": [
        {
          "name": "stdout",
          "output_type": "stream",
          "text": [
            "\n",
            "🔵 Voting Classifier (Soft)\n",
            "[[73 29]\n",
            " [ 7 96]]\n",
            "              precision    recall  f1-score   support\n",
            "\n",
            "           0       0.91      0.72      0.80       102\n",
            "           1       0.77      0.93      0.84       103\n",
            "\n",
            "    accuracy                           0.82       205\n",
            "   macro avg       0.84      0.82      0.82       205\n",
            "weighted avg       0.84      0.82      0.82       205\n",
            "\n",
            "Akurasi: 0.8244\n"
          ]
        }
      ],
      "source": [
        "# Voting Classifier (soft)\n",
        "from sklearn.ensemble import VotingClassifier\n",
        "\n",
        "# Ambil 3 model terbaik\n",
        "top_model_objs = [(name, models[name]) for name, _ in top_models]\n",
        "\n",
        "# Voting Classifier (gunakan soft voting kalau model support probabilitas)\n",
        "voting_soft_clf = VotingClassifier(estimators=top_model_objs, voting='soft', n_jobs=-1)\n",
        "voting_soft_clf.fit(X_train_scaled, y_train)\n",
        "\n",
        "y_pred_voting_soft = voting_soft_clf.predict(X_test_scaled)\n",
        "\n",
        "# Evaluasi Voting Soft\n",
        "print(\"\\n🔵 Voting Classifier (Soft)\")\n",
        "print(confusion_matrix(y_test, y_pred_voting_soft))\n",
        "print(classification_report(y_test, y_pred_voting_soft))\n",
        "acc_voting_soft = accuracy_score(y_test, y_pred_voting_soft)\n",
        "print(f\"Akurasi: {acc_voting_soft:.4f}\")"
      ]
    },
    {
      "cell_type": "code",
      "execution_count": 18,
      "id": "f9ed34a0",
      "metadata": {},
      "outputs": [
        {
          "name": "stdout",
          "output_type": "stream",
          "text": [
            "📊 [SOFT VOTING CLASSIFIER]\n",
            "Cross-Validation Scores: [0.92073171 0.87804878 0.87804878 0.90853659 0.85365854]\n",
            "Mean Accuracy: 0.8878\n",
            "Standard Deviation: 0.0240\n"
          ]
        }
      ],
      "source": [
        "from sklearn.model_selection import cross_val_score, KFold\n",
        "\n",
        "cv_soft_voting = KFold(n_splits=5, shuffle=True, random_state=42)\n",
        "scores_soft_voting = cross_val_score(voting_soft_clf, X_train_scaled, y_train, cv=cv_soft_voting)\n",
        "\n",
        "# Hasil evaluasi soft voting\n",
        "print(\"📊 [SOFT VOTING CLASSIFIER]\")\n",
        "print(\"Cross-Validation Scores:\", scores_soft_voting)\n",
        "print(f\"Mean Accuracy: {scores_soft_voting.mean():.4f}\")\n",
        "print(f\"Standard Deviation: {scores_soft_voting.std():.4f}\")\n"
      ]
    },
    {
      "cell_type": "code",
      "execution_count": 19,
      "id": "24633f47",
      "metadata": {
        "colab": {
          "base_uri": "https://localhost:8080/"
        },
        "id": "24633f47",
        "outputId": "fb44ebfc-87d0-427a-fdc2-0c6b443c02f6"
      },
      "outputs": [
        {
          "name": "stdout",
          "output_type": "stream",
          "text": [
            "\n",
            "🟢 Voting Classifier (Hard)\n",
            "[[72 30]\n",
            " [ 7 96]]\n",
            "              precision    recall  f1-score   support\n",
            "\n",
            "           0       0.91      0.71      0.80       102\n",
            "           1       0.76      0.93      0.84       103\n",
            "\n",
            "    accuracy                           0.82       205\n",
            "   macro avg       0.84      0.82      0.82       205\n",
            "weighted avg       0.84      0.82      0.82       205\n",
            "\n",
            "Akurasi: 0.8195\n"
          ]
        }
      ],
      "source": [
        "# Voting Classifier (hard)\n",
        "from sklearn.ensemble import VotingClassifier\n",
        "\n",
        "# Ambil 3 model terbaik\n",
        "top_model_objs = [(name, models[name]) for name, _ in top_models]\n",
        "\n",
        "# Voting Classifier (gunakan soft voting kalau model support probabilitas)\n",
        "voting_hard_clf = VotingClassifier(estimators=top_model_objs, voting='hard', n_jobs=-1)\n",
        "voting_hard_clf.fit(X_train_scaled, y_train)\n",
        "\n",
        "y_pred_voting_hard = voting_hard_clf.predict(X_test_scaled)\n",
        "\n",
        "# Evaluasi Voting Hard\n",
        "print(\"\\n🟢 Voting Classifier (Hard)\")\n",
        "print(confusion_matrix(y_test, y_pred_voting_hard))\n",
        "print(classification_report(y_test, y_pred_voting_hard))\n",
        "acc_voting_hard = accuracy_score(y_test, y_pred_voting_hard)\n",
        "print(f\"Akurasi: {acc_voting_hard:.4f}\")"
      ]
    },
    {
      "cell_type": "code",
      "execution_count": 20,
      "id": "d0f1e2f8",
      "metadata": {
        "colab": {
          "base_uri": "https://localhost:8080/"
        },
        "id": "d0f1e2f8",
        "outputId": "9fe3bd9f-8b58-4d61-d0c9-561cf4c9de5a"
      },
      "outputs": [
        {
          "name": "stdout",
          "output_type": "stream",
          "text": [
            "📊 [HARD VOTING CLASSIFIER]\n",
            "Cross-Validation Scores: [0.92682927 0.87804878 0.86585366 0.90853659 0.83536585]\n",
            "Mean Accuracy: 0.8829\n",
            "Standard Deviation: 0.0321\n"
          ]
        }
      ],
      "source": [
        "cv_hard_voting = KFold(n_splits=5, shuffle=True, random_state=42)\n",
        "scores_hard_voting = cross_val_score(voting_hard_clf, X_train_scaled, y_train, cv=cv_hard_voting)\n",
        "\n",
        "print(\"📊 [HARD VOTING CLASSIFIER]\")\n",
        "print(\"Cross-Validation Scores:\", scores_hard_voting)\n",
        "print(f\"Mean Accuracy: {scores_hard_voting.mean():.4f}\")\n",
        "print(f\"Standard Deviation: {scores_hard_voting.std():.4f}\")\n"
      ]
    },
    {
      "cell_type": "markdown",
      "id": "99aa276f",
      "metadata": {
        "id": "99aa276f"
      },
      "source": [
        "## Ensamble : Stacking"
      ]
    },
    {
      "cell_type": "code",
      "execution_count": 22,
      "id": "a6b8ccfd",
      "metadata": {
        "colab": {
          "base_uri": "https://localhost:8080/"
        },
        "id": "a6b8ccfd",
        "outputId": "92eba924-ec3a-49a7-a002-0199b05b3200"
      },
      "outputs": [
        {
          "name": "stdout",
          "output_type": "stream",
          "text": [
            "📊 [STACKING CLASSIFIER]\n",
            "Confusion Matrix:\n",
            " [[79 23]\n",
            " [ 7 96]]\n",
            "Classification Report:\n",
            "               precision    recall  f1-score   support\n",
            "\n",
            "           0       0.92      0.77      0.84       102\n",
            "           1       0.81      0.93      0.86       103\n",
            "\n",
            "    accuracy                           0.85       205\n",
            "   macro avg       0.86      0.85      0.85       205\n",
            "weighted avg       0.86      0.85      0.85       205\n",
            "\n",
            "Akurasi: 0.8537\n"
          ]
        }
      ],
      "source": [
        "from sklearn.ensemble import StackingClassifier\n",
        "from sklearn.linear_model import LogisticRegression\n",
        "from sklearn.model_selection import cross_val_score\n",
        "from sklearn.metrics import confusion_matrix, classification_report, accuracy_score\n",
        "\n",
        "# Contoh 3 model terbaik berdasarkan akurasi sebelumnya\n",
        "top_model_objs = [\n",
        "    (\"rf\", RandomForestClassifier(n_estimators=100, max_depth=4, min_samples_split=10, min_samples_leaf=5, random_state=42)),\n",
        "    (\"svm\", SVC(probability=True, random_state=42)),  # penting: probability=True agar bisa stacking\n",
        "    (\"knn\", KNeighborsClassifier())\n",
        "]\n",
        "\n",
        "# Meta-learner (bisa Logistic Regression, RandomForest, dll)\n",
        "meta_learner = LogisticRegression(random_state=42)\n",
        "\n",
        "# Inisialisasi stacking classifier\n",
        "stacking_clf = StackingClassifier(\n",
        "    estimators=top_model_objs,\n",
        "    final_estimator=meta_learner,\n",
        "    passthrough=True  # True: base features + predictions masuk ke meta-learner\n",
        ")\n",
        "\n",
        "# Training model stacking\n",
        "stacking_clf.fit(X_train_scaled, y_train)\n",
        "\n",
        "# Prediksi & Evaluasi\n",
        "y_pred_stack = stacking_clf.predict(X_test_scaled)\n",
        "\n",
        "print(\"📊 [STACKING CLASSIFIER]\")\n",
        "print(\"Confusion Matrix:\\n\", confusion_matrix(y_test, y_pred_stack))\n",
        "print(\"Classification Report:\\n\", classification_report(y_test, y_pred_stack))\n",
        "print(f\"Akurasi: {accuracy_score(y_test, y_pred_stack):.4f}\")\n"
      ]
    },
    {
      "cell_type": "code",
      "execution_count": 23,
      "id": "cc34fb3c",
      "metadata": {},
      "outputs": [
        {
          "name": "stdout",
          "output_type": "stream",
          "text": [
            "📊 [STACKING CLASSIFIER]\n",
            "Cross-Validation Scores: [0.92682927 0.84756098 0.89634146 0.90853659 0.85365854]\n",
            "Mean Accuracy: 0.8866\n",
            "Standard Deviation: 0.0310\n"
          ]
        }
      ],
      "source": [
        "cv_stacking = KFold(n_splits=5, shuffle=True, random_state=42)\n",
        "scores_stacking = cross_val_score(stacking_clf, X_train_scaled, y_train, cv=cv_stacking)\n",
        "\n",
        "print(\"📊 [STACKING CLASSIFIER]\")\n",
        "print(\"Cross-Validation Scores:\", scores_stacking)\n",
        "print(f\"Mean Accuracy: {scores_stacking.mean():.4f}\")\n",
        "print(f\"Standard Deviation: {scores_stacking.std():.4f}\")"
      ]
    },
    {
      "cell_type": "markdown",
      "id": "65febf8d",
      "metadata": {},
      "source": [
        "## Save Model"
      ]
    },
    {
      "cell_type": "code",
      "execution_count": 24,
      "id": "94e8aa3e",
      "metadata": {},
      "outputs": [
        {
          "name": "stdout",
          "output_type": "stream",
          "text": [
            "✅ Model soft voting berhasil disimpan sebagai 'voting_soft_model.pkl'\n"
          ]
        }
      ],
      "source": [
        "import pickle\n",
        "\n",
        "# Simpan model Voting Soft ke file\n",
        "with open('voting_soft_model.pkl', 'wb') as f:\n",
        "    pickle.dump(voting_soft_clf, f)\n",
        "\n",
        "print(\"✅ Model soft voting berhasil disimpan sebagai 'voting_soft_model.pkl'\")\n"
      ]
    },
    {
      "cell_type": "code",
      "execution_count": 25,
      "id": "5f73ef1c",
      "metadata": {},
      "outputs": [],
      "source": [
        "with open('scaler.pkl', 'wb') as f:\n",
        "    pickle.dump(scaler, f)"
      ]
    },
    {
      "cell_type": "code",
      "execution_count": 26,
      "id": "fcd1b595",
      "metadata": {},
      "outputs": [],
      "source": [
        "with open('num_features.pkl', 'wb') as f:\n",
        "    pickle.dump(num_features, f)"
      ]
    }
  ],
  "metadata": {
    "colab": {
      "provenance": []
    },
    "kernelspec": {
      "display_name": "Python 3",
      "language": "python",
      "name": "python3"
    },
    "language_info": {
      "codemirror_mode": {
        "name": "ipython",
        "version": 3
      },
      "file_extension": ".py",
      "mimetype": "text/x-python",
      "name": "python",
      "nbconvert_exporter": "python",
      "pygments_lexer": "ipython3",
      "version": "3.9.6"
    }
  },
  "nbformat": 4,
  "nbformat_minor": 5
}
